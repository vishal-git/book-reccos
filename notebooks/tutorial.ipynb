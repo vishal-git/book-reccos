{
 "cells": [
  {
   "cell_type": "markdown",
   "id": "6721fbe6-117a-4e25-8db8-c4b08502d345",
   "metadata": {},
   "source": [
    "# A Tutorial to create a simple book-search app using a vector database deplyed on Weaviate"
   ]
  },
  {
   "cell_type": "markdown",
   "id": "c1825ac0-503d-41b1-8308-29017a68c1b0",
   "metadata": {},
   "source": [
    "This tutorial will walk you step-by-step to create a local app that can be used to search books (from a collection) based on a search phrase. We will use a vector database from Weaviate to store the vector embeddings for book descriptions and genres. We will also make a call to OpenAI API to convert the search query into an embedding before performing vector similarity search to identify the best matches."
   ]
  },
  {
   "cell_type": "markdown",
   "id": "96e4a8e8-7206-4fb3-af91-30191a06065e",
   "metadata": {},
   "source": [
    "Please note that this is a very detailed tutorial :) so feel free to skip over some sections if you are already familiar with those concepts/processes covered in those sections."
   ]
  },
  {
   "cell_type": "markdown",
   "id": "dd97ae34-7348-425e-b45d-86cd07fa614a",
   "metadata": {},
   "source": [
    "# Tools"
   ]
  },
  {
   "cell_type": "markdown",
   "id": "1414a562-cc9c-439c-933c-7ddbcdcde53c",
   "metadata": {},
   "source": [
    "Here's the list of all tools we will use for this project:\n",
    "\n",
    "1. Vector database provided by Weaviate\n",
    "2. OpenAI API for creating embeddings\n",
    "3. Streamlit for the web-app frontend and backend"
   ]
  },
  {
   "cell_type": "markdown",
   "id": "1b51ceb0-8d45-43df-83de-aae00d440199",
   "metadata": {},
   "source": [
    "# Sources"
   ]
  },
  {
   "cell_type": "markdown",
   "id": "30d3899a-b775-43de-9ad5-d3d0e4b94544",
   "metadata": {},
   "source": [
    "* [The Books dataset](https://github.com/scostap/goodreads_bbe_dataset) contains details for more than 63,000 books.\n",
    "* [A Movie Search Engine tutorial](https://towardsdatascience.com/recreating-andrej-karpathys-weekend-project-a-movie-search-engine-9b270d7a92e4)  by Leonie Monigatti\n",
    "* [Weaviate documentation and guidelines for search](https://weaviate.io/developers/weaviate/search)\n",
    "* [Streamlit API reference](https://docs.streamlit.io/library/api-reference)"
   ]
  },
  {
   "cell_type": "markdown",
   "id": "3816c5f6-ed6f-4418-9cad-231be4d6123f",
   "metadata": {},
   "source": [
    "# Step 1: Set up"
   ]
  },
  {
   "cell_type": "markdown",
   "id": "c135e85e-5b0f-4837-8da0-b6ff839fd479",
   "metadata": {},
   "source": [
    "## 1 (a): Clone this repo into your local directory."
   ]
  },
  {
   "cell_type": "markdown",
   "id": "5118ae45-4475-417e-b4ff-344ec5c5dc60",
   "metadata": {},
   "source": [
    "No explanation needed for this step :)"
   ]
  },
  {
   "cell_type": "markdown",
   "id": "8975f8ff-59f5-447e-ae1d-22b907dbbe1d",
   "metadata": {},
   "source": [
    "## 1 (b): Install all Python dependencies."
   ]
  },
  {
   "cell_type": "markdown",
   "id": "f1881446-8ed9-4948-be56-adadd0e553ce",
   "metadata": {},
   "source": [
    "All Python dependencies are listed in the `requirements.txt` file. Before installing all dependencies, let's create a Python virtual environment. I like to use the in-built `venv` functionality that comes with the base Python installation. But feel free to use any other tools such as `conda` or `poetry`."
   ]
  },
  {
   "cell_type": "markdown",
   "id": "6367060f-8bbc-4fdc-91c6-6b6a272836b8",
   "metadata": {},
   "source": [
    "Here are the commands you can run to (a) create a Python virtual environment, (b) activate it, and (c) install all dependencies:\n",
    "\n",
    "```\n",
    "python -m venv .venv\n",
    "source . .venv/bin/activate\n",
    "pip install -r requirements.txt\n",
    "```"
   ]
  },
  {
   "cell_type": "markdown",
   "id": "76c25793-d9a1-4867-af5c-afab5ba93982",
   "metadata": {},
   "source": [
    "Please note that I am using Python 3.10 for this project. (You can check your Python version using the following command: `python --version`.)"
   ]
  },
  {
   "cell_type": "markdown",
   "id": "81305f0a-0d26-47a5-b3b9-fc5d8e40a37a",
   "metadata": {},
   "source": [
    "## 1 (c): Create a free vector database on Weaviate."
   ]
  },
  {
   "cell_type": "markdown",
   "id": "47b1a78a-2c42-44d2-a8c3-7670e12707a6",
   "metadata": {},
   "source": [
    "Click on [this link](https://console.weaviate.cloud/) and follow instructions to create a free-tier account. Then follow the instructions below to create a free vector database. [Please note that these steps may change in the future. For the latest instructions, you can check out their official documentation [here](https://weaviate.io/developers/wcs/quickstart)."
   ]
  },
  {
   "cell_type": "markdown",
   "id": "95b21209-de73-48e0-a929-e9caba067c03",
   "metadata": {},
   "source": [
    "Once you create and account and login, you will a screen like this:"
   ]
  },
  {
   "cell_type": "markdown",
   "id": "08153915-4461-4987-a32f-17c504e7b6d5",
   "metadata": {},
   "source": [
    "<img src='../misc/weaviate_home_screen.png' width=500>"
   ]
  },
  {
   "cell_type": "markdown",
   "id": "afed7d07-47c1-4740-9afb-292f60cc2569",
   "metadata": {},
   "source": [
    "Under _Free Sandbox_ tab, click on **Create cluster** button, provide a meaningful name to your cluster and then click on **Create**. Make sure the _Enable Authentication_ option is checked. Please note that the cluter will stay up only for 14 days for a free-tier account. If you would like to preserve the vector database beyond 2 weeks, you'd have to purchase a paid plan."
   ]
  },
  {
   "cell_type": "markdown",
   "id": "9071c25b-0f84-40bc-a281-7f0522e59506",
   "metadata": {},
   "source": [
    "<img src='../misc/weaviate_create_cluster.png' width=500>"
   ]
  },
  {
   "cell_type": "markdown",
   "id": "341f39a7-0144-4b5b-8155-b5336210fba7",
   "metadata": {},
   "source": [
    "A few minutes after you are done with creating a new cluster, you will see it appear on your main page. There should be a green check-mark on it."
   ]
  },
  {
   "cell_type": "markdown",
   "id": "0e71ac98-5b4a-4d1f-87c3-10aec8cbfd14",
   "metadata": {},
   "source": [
    "<img src='../misc/weaviate_cluster_created.png' width=500>"
   ]
  },
  {
   "cell_type": "markdown",
   "id": "13a82305-33b4-4734-99ad-519225dedadd",
   "metadata": {},
   "source": [
    "Now we need to create an API key to authenticate access. Click on the **Details** button (shown in the image above), and follow instructions to create an API key. Copy the API key. We will use the `.env_template` file to store this API key. This is the content of this template file:"
   ]
  },
  {
   "cell_type": "markdown",
   "id": "ca966449-0502-480a-95f5-5759828d3c02",
   "metadata": {},
   "source": [
    "<img src='../misc/env_template.png' width=400>"
   ]
  },
  {
   "cell_type": "markdown",
   "id": "4b0ab1a1-30c1-4dd8-b788-049ccac2b17d",
   "metadata": {},
   "source": [
    "Rename the `.env_template` file to `.env`, and add the Weaviate URL (which can be found under the **Details** tab; see below) and the API key that you just copied."
   ]
  },
  {
   "cell_type": "markdown",
   "id": "eb4e51ea-2a8d-4ae2-8774-32fec81ce1fe",
   "metadata": {},
   "source": [
    "<img src='../misc/weaviate_cluster_url.png' width=500>"
   ]
  },
  {
   "cell_type": "markdown",
   "id": "eb04b994-53a0-4046-8e92-39d8b8d8d6ed",
   "metadata": {},
   "source": [
    "> Suggested Reading: Familiarize yourself with some [Weaviate core concepts](https://weaviate.io/developers/weaviate/concepts)"
   ]
  },
  {
   "cell_type": "markdown",
   "id": "167cee1b-5a68-4594-8600-958746e1618c",
   "metadata": {},
   "source": [
    "## 1 (d): Check connectivity to the vector database."
   ]
  },
  {
   "cell_type": "markdown",
   "id": "28d38e11-d727-4c30-891c-53bc915d0a15",
   "metadata": {},
   "source": [
    "Let's make sure that we are able to connect to the Weaviate cluster via Python. We can use the `check_client.py` script for this purpose. This script will read the information from the `.env` file and try to connect to the cluster. You can run the script using the following command:\n",
    "\n",
    "```\n",
    "python src/check_client.py\n",
    "```\n",
    "\n",
    "Note that you should run the command from the root directory of the project (i.e., `book-reccos`)."
   ]
  },
  {
   "cell_type": "markdown",
   "id": "376083cd-baad-4f59-804e-b6d1aa071f1e",
   "metadata": {},
   "source": [
    "This script simply calls the `get_client()` function from the `utils.py` module. The function (see below) contains code to use the correct authentication keys and initializes a connection with the vector database. "
   ]
  },
  {
   "cell_type": "markdown",
   "id": "95715de1-94f4-4141-b24f-6d21543abcea",
   "metadata": {},
   "source": [
    "<img src='../misc/code_get_client.png' width=500>"
   ]
  },
  {
   "cell_type": "markdown",
   "id": "98a8b124-a980-43c2-8cff-b21a9da6a5a9",
   "metadata": {},
   "source": [
    "**Note:** For now, we call this function with `openai=False` because we are just interested in ensuring connectivity with the cluster. Later on, we will initialize this connection _with_ the OpenAI API key because we will need it for creating text embeddings."
   ]
  },
  {
   "cell_type": "markdown",
   "id": "ace74ade-6321-4321-b261-a096f08fed93",
   "metadata": {},
   "source": [
    "This should generate an output that contains the details of the vector database, including its properties like `class` and `description`. If this code throws out an error, there is an issue with the API key or the Weaviate URL provided in the `.env` file. Please double-check to make sure those values are correct."
   ]
  },
  {
   "cell_type": "markdown",
   "id": "b2d70d72-643c-4b60-a7e3-25cfe5ccdf8f",
   "metadata": {},
   "source": [
    "Now that we have successfully created a Weaviate cluster (aka Weaviate Cloud Services (WCS) Instance), we are _almost_ ready to populate it with some vector embeddings! One last thing we need to take care of is the **API token** from OpenAI. \n",
    "\n",
    "If you already have an API token available, you can skip this part. Just make sure that you add this token to the `.env` file."
   ]
  },
  {
   "cell_type": "markdown",
   "id": "54474e98-1ac6-47b5-ac54-f6132b7b90c8",
   "metadata": {},
   "source": [
    "## 1 (e): Create an OpenAI API token."
   ]
  },
  {
   "cell_type": "markdown",
   "id": "9e01f794-c1a7-405a-bd79-3752c15ed2a1",
   "metadata": {},
   "source": [
    "Click on [this link](https://platform.openai.com/) to visit the OpenAI website and follow instructions to create an API token. You will have to provide your credit card information. The total cost of running all code in this tutorial should be minimal (under $5). \n",
    "\n",
    "If you would like to use a free option instead, you can use an open-source model from [HuggingFace](https://huggingface.co/blog/getting-started-with-embeddings). If you decide to do this, you will need to add the HuggingFace API key in `.env` and you will also need to change the way the client connection is invoked in `utils.py`."
   ]
  },
  {
   "cell_type": "markdown",
   "id": "15792b39-e867-4d50-a9b3-c570bb1b36a1",
   "metadata": {},
   "source": [
    "# Step 2: Generate and store embeddings into the vector database. "
   ]
  },
  {
   "cell_type": "markdown",
   "id": "7fa9833f-a2c0-4acc-a6d0-0d0280dddcc5",
   "metadata": {},
   "source": [
    "As mentioned earlier, we will use the Books dataset for this purpose. But feel free to use any other dataset that you might be interested in, such as movies, shows, products. All we really need is a text column that contains the description of those items. We will first convert these text descriptions into text embeddings and then store them into our vector database."
   ]
  },
  {
   "cell_type": "markdown",
   "id": "6cd2d98f-d5ad-4279-9f40-7aff93aef9cb",
   "metadata": {},
   "source": [
    "> Suggested Reading: Check out the [OpenAI documentation on embeddings](https://platform.openai.com/docs/guides/embeddings/what-are-embeddings)."
   ]
  },
  {
   "cell_type": "markdown",
   "id": "f62317e9-5610-4db0-a4f5-2a9eada38cd6",
   "metadata": {},
   "source": [
    "We will use OpenAI's `text-embedding-ada-002` embedding model (which is the default model) to create text embeddings. "
   ]
  },
  {
   "cell_type": "markdown",
   "id": "0c56ef63-a5c1-4ecc-96a3-b8d0c1931290",
   "metadata": {},
   "source": [
    "## 2 (a): Read the Books dataset."
   ]
  },
  {
   "cell_type": "markdown",
   "id": "951e1966-90ab-4e50-98ee-4c4fc48e4a19",
   "metadata": {},
   "source": [
    "We will read the Books dataset from the `./data` directory and then clean the database just in case the **Books** class already exists. Note that if you are running this for the first time, you don't need to run this \"clean-up\" part because the database is empty. But you may need to run this code multiple times (e.g., if you get some errors), in which case it would be a good practice to perform a clean-up before populating/repopulating the database."
   ]
  },
  {
   "cell_type": "markdown",
   "id": "13b5b905-2fc0-4d5d-84a1-a91ad926cfcc",
   "metadata": {},
   "source": [
    "<img src='../misc/code_read_data.png' width=600>"
   ]
  },
  {
   "cell_type": "markdown",
   "id": "81716970-545a-4330-9c55-04156985c767",
   "metadata": {},
   "source": [
    "Note that I am using \"Books\" as the name of the schema (see below); if you used a different name, you should change that in this code.\n",
    "\n",
    "**Terminology alert**: Newer Weaviate documentation discuses \"collections.\" Older Weaviate documentation refers to \"classes\" instead. Expect to see both terms throughout the documentation. For practical purposes, we can think of these as \"schemas\"."
   ]
  },
  {
   "cell_type": "markdown",
   "id": "efd96d7d-b4c1-4361-ab1d-75b9508528e8",
   "metadata": {},
   "source": [
    "Now let's create a schema, called \"Books\" and provide some important details such as:\n",
    "\n",
    "* `description`: Provide a short description of the schema\n",
    "* `vectorizer`: We will use OpenAI's `text2vec-openai` vectorizer; check out [this link](https://weaviate.io/developers/weaviate/modules) link for more details\n",
    "* `vectorIndexConfig`: We will use cosine similarity to compare the text embedding with the query embedding\n",
    "* `moduleConfig`: Here we provide some more details about the vectorizer; check out [this link](https://weaviate.io/developers/weaviate/manage-data/collections#specify-vectorizer-settings) for more details\n",
    "\n",
    "[This](https://weaviate.io/developers/weaviate/manage-data/collections) page provides more information about additional configurations, such as sharding. "
   ]
  },
  {
   "cell_type": "markdown",
   "id": "43cb6558-588c-46e0-8d15-14d18182257e",
   "metadata": {},
   "source": [
    "## 2 (b): Configure the schema."
   ]
  },
  {
   "cell_type": "markdown",
   "id": "570214ba-4676-45de-bea1-05f3c2564c23",
   "metadata": {},
   "source": [
    "<img src='../misc/code_books_schema.png' width=500>"
   ]
  },
  {
   "cell_type": "markdown",
   "id": "548c8283-6172-48d7-8629-81dd24096001",
   "metadata": {},
   "source": [
    "Now let's set up some `properties` for this schema (see below). We will set `text2vec-openai[skip]` to `True` for both `bookId` and `title` because we are not going to convert them into text embeddings. We will set it to `False` for the `description` field. In addition, we will also set it to `False` for the `genres` field. This way, we will be creating text embeddings for both the `description` and `genres` field, both of which will be converted into text embedding before loading them into the database."
   ]
  },
  {
   "cell_type": "markdown",
   "id": "387ad861-6923-4fe7-a1e4-4cd07d6f1061",
   "metadata": {},
   "source": [
    "<img src='../misc/code_books_schema_properties.png' width=400>"
   ]
  },
  {
   "cell_type": "markdown",
   "id": "471c560d-f4c4-4459-8ac7-a026a1657d25",
   "metadata": {},
   "source": [
    "## 2 (c): Create the schema."
   ]
  },
  {
   "cell_type": "markdown",
   "id": "7afe9679-7b89-4895-9ac0-0b16de1be5a1",
   "metadata": {},
   "source": [
    "The following line of code finally creates an empty schema in the database called \"Books\":"
   ]
  },
  {
   "cell_type": "markdown",
   "id": "806a1b71-d892-4e48-82ae-f37e51ed0995",
   "metadata": {},
   "source": [
    "<img src='../misc/code_create_schema.png' width=300>"
   ]
  },
  {
   "cell_type": "markdown",
   "id": "e81a55b4-2fa7-4885-89ab-b578ecacb764",
   "metadata": {},
   "source": [
    "## 2 (d): Load data into that schema."
   ]
  },
  {
   "cell_type": "markdown",
   "id": "861f93b7-dac7-4942-a551-f6f149764205",
   "metadata": {},
   "source": [
    "Now that an empty schema has been created, it's time to load it up with some embeddings! We will do this in batches. Our dataset is pretty small, so we will use a batch size of 10. You can read more about batch import on [this link](https://weaviate.io/developers/weaviate/manage-data/import). "
   ]
  },
  {
   "cell_type": "markdown",
   "id": "c144f84b-95a5-44ec-928b-c23da1a66e2c",
   "metadata": {},
   "source": [
    "<img src='../misc/code_batch_import.png' width=420>"
   ]
  },
  {
   "cell_type": "markdown",
   "id": "34e1bbcf-1338-433a-935a-b3e846ec172c",
   "metadata": {},
   "source": [
    "Note that I have added a `try` and `except` clause because some of the entries from the dataset were causing issues. I think this was due to some empty (null) values as well as some foreign language content in the description column. You may see some warnings as well, but as long as this doesn't error out, you should be fine.\n",
    "\n",
    "If all worked well, you should now have a vector database deployed in the cloud! Congratulations!\n",
    "\n",
    "Now if you go back to your Weaviate console, and click on the **Details** button, you will see that the database is now populated with some objects."
   ]
  },
  {
   "cell_type": "markdown",
   "id": "4f4b3643-28a8-447d-bcee-cd89085ab8a4",
   "metadata": {},
   "source": [
    "<img src='../misc/weaviate_database_objects.png' width=400>"
   ]
  },
  {
   "cell_type": "markdown",
   "id": "8e730462-dbaf-4827-a426-d3423cd3ba3f",
   "metadata": {},
   "source": [
    "Please note that due to some data quality and/or OpenAI API related issues, the total number of objects (aka embeddings) is only around sixteen thousand. This is happening due to the following JSON error: `An exception occurred: Out of range float values are not JSON compliant`. We will ignore this for now and continue to the next steps with these embeddings in the database."
   ]
  },
  {
   "cell_type": "markdown",
   "id": "09ef8517-71c6-4471-b0fc-95a69f9eb7a8",
   "metadata": {},
   "source": [
    "# Step 3: Perform book search."
   ]
  },
  {
   "cell_type": "markdown",
   "id": "a2bb9bbb-e798-43cd-90f9-52f819be53a3",
   "metadata": {},
   "source": [
    "Now that we have a database full of vectors ready, we can perform search and retrieve relevant books."
   ]
  },
  {
   "cell_type": "markdown",
   "id": "36c16442-6e97-40e3-ba8a-5662d19e5702",
   "metadata": {},
   "source": [
    "> Suggested Reading: Familiarize yourself with various topics realted to search from [Weaviate documentation on Search](https://weaviate.io/developers/weaviate/search)."
   ]
  },
  {
   "cell_type": "markdown",
   "id": "6f786a63-3a6c-4a7f-86a5-e9257578fc84",
   "metadata": {},
   "source": [
    "## 3(a): Keyword search."
   ]
  },
  {
   "cell_type": "markdown",
   "id": "f27d29c5-ae72-49de-a4f1-99670be771d5",
   "metadata": {},
   "source": [
    "In Weaviate, we can perform a keyword search using \"BM25 (Best match 25)\" algorithm. This algorithm has some limitations -- namely, it doesn't consider semantic meanings and its heavy reliance on term frequency -- but we will try it as our first shot at getting some book recommendations from the vector database."
   ]
  },
  {
   "cell_type": "markdown",
   "id": "caddba26-5983-43a7-9964-4538dbc58079",
   "metadata": {},
   "source": [
    "> Suggested Reading: Check out [this article](https://medium.com/@evertongomede/understanding-the-bm25-ranking-algorithm-19f6d45c6ce) on BM25."
   ]
  },
  {
   "cell_type": "markdown",
   "id": "9d090924-e0ba-4f30-8e0e-8f400d6b2d4c",
   "metadata": {},
   "source": [
    "<img src='../misc/code_keyword_search.png' width=450>"
   ]
  },
  {
   "cell_type": "markdown",
   "id": "4bc5b70f-bd77-4592-9555-f4eaf3291b95",
   "metadata": {},
   "source": [
    "You can run this script by using the following command:\n",
    "\n",
    "```\n",
    "python src/keyword_search.py\n",
    "```\n",
    "\n",
    "This code searched for the top three recommendations for the search word \"magic\". Here are the three results that I got:"
   ]
  },
  {
   "cell_type": "markdown",
   "id": "08eff98d-4b41-4c5c-aada-9c69e8a2a93f",
   "metadata": {},
   "source": [
    "```\n",
    "{\n",
    "  \"data\": {\n",
    "    \"Get\": {\n",
    "      \"Books\": [\n",
    "        {\n",
    "          \"_additional\": {\n",
    "            \"score\": \"2.7072732\"\n",
    "          },\n",
    "          \"description\": \"Xanth was the enchanted land where magic ruled - where every citizen had a special spell only he could cast. It was a land of centaurs and dragons and basilisks.For Bink of North Village, however, Xanth was no fairy tale. He alone had no magic. And unless he got some - and got some fast! - he would be exiled. Forever!But the Good Magician Humfrey was convinced that Bink did indeed have magic. In fact, both Beauregard the genie and the magic wall chart insisted that Bink had magic. Magic as powerful as any possessed by the King or by Good Magician Humfrey - or even by the Evil Magician TrentBe that as it may, no one could fathom the nature of Bink's very special magic. Bink was in despair. This was even worse than having no magic at all..and he would still be exiled!\",\n",
    "          \"genres\": \"['Fantasy', 'Fiction', 'Humor', 'Science Fiction Fantasy', 'Young Adult', 'Magic', 'Adventure', 'Science Fiction', 'High Fantasy', 'Comedy']\",\n",
    "          \"title\": \"A Spell for Chameleon\"\n",
    "        },\n",
    "        {\n",
    "          \"_additional\": {\n",
    "            \"score\": \"2.6994038\"\n",
    "          },\n",
    "          \"description\": \"The Last Herald-Mage contains Magic's Pawn, Magic's Promise and Magic's Price.\",\n",
    "          \"genres\": \"['Fantasy', 'Fiction', 'Science Fiction Fantasy', 'Magic', 'Epic Fantasy', 'High Fantasy', 'LGBT', 'Romance', 'Young Adult', 'Gay']\",\n",
    "          \"title\": \"The Last Herald-Mage\"\n",
    "        },\n",
    "        {\n",
    "          \"_additional\": {\n",
    "            \"score\": \"2.5713503\"\n",
    "          },\n",
    "          \"description\": \"Magic is all around. You just have to believe.Do you believe?\\u201cLife is too short to be cynical. So smile, dare to believe and leave the door open for Magic.\\u201dI live by those words. I\\u2019ve searched the world for answers to questions that only seem to lead to more questions. Imagine my surprise when I discover Magic right across the hall... wearing nothing but an apron and a smile...I\\u2019m Laney Evans, and I believe in Magic. \\u201cThe secret ingredient is always Magic.\\\" I\\u2019ve lived my whole life with Magic surrounded by a wacky, prank crazed, magical family. I thought I had the recipe for happiness all spelled out until I caught sight of Laney Evans, and now I know that the best is yet to come!I\\u2019m Max Cross, and I believe in love at first sight. (I\\u2019m not a creeper, damn it.)\",\n",
    "          \"genres\": \"['Fantasy', 'Romance']\",\n",
    "          \"title\": \"Cross the Hall Magic\"\n",
    "        }\n",
    "      ]\n",
    "    }\n",
    "  }\n",
    "}\n",
    "```"
   ]
  },
  {
   "cell_type": "markdown",
   "id": "d787e515-7196-40f3-b96c-eb4770a856ab",
   "metadata": {},
   "source": [
    "We can see that, since this is a *literal* keyword search (and not a semantic one), we get three recommendations whose descriptions (or genres) contain the search word \"magic\"."
   ]
  },
  {
   "cell_type": "markdown",
   "id": "ca557b2a-69fa-4aea-ba25-71495aabdbbb",
   "metadata": {},
   "source": [
    "Since we also requested the `score` in our query, we see that these scores are provided in an attribute called `_additional`. The higher the score, the better the match. Hence, the results are sorted from high to low scores."
   ]
  },
  {
   "cell_type": "markdown",
   "id": "a7a124d0-ef48-4347-aad2-2dcbee17c03c",
   "metadata": {},
   "source": [
    "## 3(b): Vector search."
   ]
  },
  {
   "cell_type": "markdown",
   "id": "38782652-9b1b-4af9-b3e5-545b27562f6b",
   "metadata": {},
   "source": [
    "Now let's move on to the main part of this tutorial: retrieval using vector similarity search. Here's how this works:\n",
    "\n",
    "1. The user provides a search phrase, e.g., \"adventure novel with some philosophy\".\n",
    "2. We call the OpenAI API to convert this search phrase into an embedding vector. Let's call it the search vector.\n",
    "3. Now we calculate the cosine similarity between this search vector and all other book embedding vectors that we have stored in our vector database.\n",
    "4. The top results, based on the similarity score, are returned to the user.\n",
    "\n",
    "It's pretty simple!"
   ]
  },
  {
   "cell_type": "markdown",
   "id": "7d8cb895-043c-473d-94c9-e66cc4355873",
   "metadata": {},
   "source": [
    "> Suggested Reading: Here's a [brief introduction](https://www.pinecone.io/learn/what-is-similarity-search/) to how vector similarity search works (from Pinecone). And while you're at it, check out the amazing educational resources from Pinecone's [Learning Center](https://www.pinecone.io/learn/)."
   ]
  },
  {
   "cell_type": "markdown",
   "id": "47cb8da6-3df5-427d-9142-3022b5712218",
   "metadata": {},
   "source": [
    "The function that performs this vector search is located in `src/vector_search.py` file:"
   ]
  },
  {
   "cell_type": "markdown",
   "id": "c2c2fe63-a968-4c3d-9d30-4c273c58ea68",
   "metadata": {},
   "source": [
    "<img src='../misc/code_vector_search.png' width=500>"
   ]
  },
  {
   "cell_type": "markdown",
   "id": "1557e1e7-18c3-435b-8a5d-3028245b81e5",
   "metadata": {},
   "source": [
    "We search in the **Books** schema, and ask for the following four fields in the search results: `bookId`, `title`, `genres`, and `description`. We provide the keyword with the `concepts` parameter inside `with_near_text()` option. This is the search phrase that will be converted into a query embedding and then compared against all text embeddings we have in the database using a similarity search. We restrict the search results to three, and as also ask the cosine similarity distance measure to be returned with the query results."
   ]
  },
  {
   "cell_type": "markdown",
   "id": "98ef8208-ab4e-47cf-8574-4c288187839c",
   "metadata": {},
   "source": [
    "In line #18 above, we convert the response into JSON format. Since our database is not very large, the query may yield zero results. We capture that exception using `try` and `except` block. If no books are found that match with the search phrase, we print the following message: \"No results found.\""
   ]
  },
  {
   "cell_type": "markdown",
   "id": "dc5701b9-81ad-455b-931f-098036ed957c",
   "metadata": {},
   "source": [
    "Finally, we convert the response into a Python list and apply a filter to discard any results that have a distance score higher than 0.2. This threshold value seems to be working well based on a few examples that I checked. Feel free to change it if needed -- especially if we decided to use a different dataset. You can remove this threshold first, increase the value for `with_limit()` (line #11) and check out the search results to find a more appropriate threshold."
   ]
  },
  {
   "cell_type": "markdown",
   "id": "5e1cfe1c-d0e5-411e-a3da-91e23283ba3f",
   "metadata": {},
   "source": [
    "You can perform some search by directly running the `src/vector_search.py` file and changing the search phrase in line #39 of this script. "
   ]
  },
  {
   "cell_type": "markdown",
   "id": "501495d5-686d-48c9-907b-626c615aac73",
   "metadata": {},
   "source": [
    "# Step 4: Create an app."
   ]
  },
  {
   "cell_type": "markdown",
   "id": "cf1b4d92-1ba9-42ff-8d8a-041f1f36784c",
   "metadata": {},
   "source": [
    "Okay, now let's create an web-app using **Streamlit**. The app can be launched locally in a brower where a user can perform a search and see the results.   "
   ]
  },
  {
   "cell_type": "markdown",
   "id": "ee5a928a-9e28-4176-91d9-afe7bdd9c17c",
   "metadata": {},
   "source": [
    "> Suggested Reading: You might want to familarize yourself with some basic Streamlit concepts on this [documentation page](https://docs.streamlit.io/library/get-started). "
   ]
  },
  {
   "cell_type": "markdown",
   "id": "17895a50-e2b9-4213-a1c8-246acb5461c7",
   "metadata": {},
   "source": [
    "Our app is very light. It will have a single web page, with a text input area where the user can enter a search phrase. Once the vector search is complete, we will display the results on the same page. Let's take a look at the code step by step."
   ]
  },
  {
   "cell_type": "markdown",
   "id": "c62b163f-1ec1-493d-9b94-0cc3c6b4d59e",
   "metadata": {},
   "source": [
    "First, we need a title and a subtitle text for the page. Let's set them up using `title()` and `write()`. Note that we can use the two colon format to include emojis, e.g., `:books:` will display an emoji for books."
   ]
  },
  {
   "cell_type": "markdown",
   "id": "d39b256f-1ca2-42f3-a19e-46e09e2b24a7",
   "metadata": {},
   "source": [
    "<img src='../misc/code_app_title.png' width=450>"
   ]
  },
  {
   "cell_type": "markdown",
   "id": "4abc7d33-0107-4d42-96b4-0ea3dc23edf2",
   "metadata": {},
   "source": [
    "Now let's create a user input area where user can type in the search phrase. We do this by creating a Streamlit \"form\" called **book-search** and we create a user-input area using the `text_input()` property of this form. We also add a **Submit** button at the bottom of this form."
   ]
  },
  {
   "cell_type": "markdown",
   "id": "24a9393d-3b94-47b5-8566-ba017d3ce800",
   "metadata": {},
   "source": [
    "<img src='../misc/code_app_user_input.png' width=500>"
   ]
  },
  {
   "cell_type": "markdown",
   "id": "9b02c6dd-438a-4c25-b36d-83b0283f97d5",
   "metadata": {},
   "source": [
    "Based on this code, this is what our app would look like (once launched):"
   ]
  },
  {
   "cell_type": "markdown",
   "id": "0a8c0660-7f70-49b2-a67b-33efaa8c7e40",
   "metadata": {},
   "source": [
    "<img src='../misc/app_title.png' width=500>"
   ]
  },
  {
   "cell_type": "markdown",
   "id": "4fdd787e-45b2-4415-a1f3-d90cb06f3c0b",
   "metadata": {},
   "source": [
    "The next step is to grab the text input entered by the user and call the vector search to retrieve results. Here's the code:"
   ]
  },
  {
   "cell_type": "markdown",
   "id": "8524ae5a-547f-46d9-9a3c-cdd578dd16f3",
   "metadata": {},
   "source": [
    "<img src='../misc/code_app_submit.png' width=500>"
   ]
  },
  {
   "cell_type": "markdown",
   "id": "d29f7918-c173-4d19-8927-b043bad9aa8e",
   "metadata": {},
   "source": [
    "The code will run only if the user clicks the submit button. We first need to initialize a connection the vector dataset. We do this in line # 24. Then we call the `vector_search()` function along with the client and the search phrase (aka the \"query\").\n",
    "\n",
    "If no recommendations are found, then we simply print a message. \n",
    "\n",
    "Otherwise, we iterate through each of the top three results. For each result, we create two columns, the first one will be used to display the book cover image and the second one will be used to display the book description text. We set the width of these two columns as `[1, 3]`, meaning that the second column (which will be used to display the book description) will be three times as wide as the first one. Check out the [documentation page](https://docs.streamlit.io/library/api-reference/layout/st.columns) for more details on this."
   ]
  },
  {
   "cell_type": "markdown",
   "id": "fb3800bc-1b8f-41cc-be1c-c5cc2f2afddc",
   "metadata": {},
   "source": [
    "Now the original dataset does contain a column called `coverImg` that contains a public URL for the book cover image. We will use this to grab the cover image from that URL and display it on our app. I have read the dataset into a `pandas` dataframe called `df`. We grab the URL from the `coverImg` column for that specific `bookId` from the search results. And then we display that image using `st.image()` option.\n",
    "\n",
    "In the second colum, called `text_col`, we simply write the book title and description. Note that we could have grabbed these two values from the `df` dataset, but we already have them available in the search results. We also include the `distance` value at the top for reference. Note that lower values indicate better matches, and the results are sorted from low to high distance scores. Here's one example of search result for the search phrase \"\""
   ]
  },
  {
   "cell_type": "markdown",
   "id": "cb3edd5e-539e-4e7e-a12c-615d5f4c88fb",
   "metadata": {},
   "source": [
    "<img src='../misc/app_sample_result.png' width=500>"
   ]
  },
  {
   "cell_type": "markdown",
   "id": "42a8ed12-1015-4eda-a37a-283f134a483e",
   "metadata": {},
   "source": [
    "You can launch this app by running the following command: `streamlit run src/app.py`. \n",
    "\n",
    "That should print a pair of local and network URLs as shown below. You can Ctrl+Click on either one to launch the app in you browser."
   ]
  },
  {
   "cell_type": "markdown",
   "id": "7aaf73b7-a250-4610-873f-37aa46264d6c",
   "metadata": {},
   "source": [
    "<img src='../misc/app_launch.png' width=500>"
   ]
  },
  {
   "cell_type": "markdown",
   "id": "a1f75e49-b415-4171-857a-3d009a389dce",
   "metadata": {},
   "source": [
    "And you should be able to perform a search and view the results! Congratulations! :)\n"
   ]
  }
 ],
 "metadata": {
  "kernelspec": {
   "display_name": "Python 3 (ipykernel)",
   "language": "python",
   "name": "python3"
  },
  "language_info": {
   "codemirror_mode": {
    "name": "ipython",
    "version": 3
   },
   "file_extension": ".py",
   "mimetype": "text/x-python",
   "name": "python",
   "nbconvert_exporter": "python",
   "pygments_lexer": "ipython3",
   "version": "3.10.12"
  }
 },
 "nbformat": 4,
 "nbformat_minor": 5
}
